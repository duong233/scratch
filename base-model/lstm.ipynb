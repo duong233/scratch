{
 "cells": [
  {
   "cell_type": "code",
   "execution_count": 1,
   "metadata": {},
   "outputs": [],
   "source": [
    "import numpy as np               #for maths\n",
    "import pandas as pd              #for data manipulation\n",
    "import matplotlib.pyplot as plt  #for visualization\n",
    "import torch.nn as nn"
   ]
  },
  {
   "cell_type": "code",
   "execution_count": 7,
   "metadata": {},
   "outputs": [],
   "source": [
    "input_units = 100\n",
    "hidden_units = 256\n",
    "output_units = 1000\n",
    "learning_rate = 0.005\n",
    "beta1 = 0.9\n",
    "beta2 = 0.99"
   ]
  },
  {
   "cell_type": "markdown",
   "metadata": {},
   "source": [
    "### Activation function"
   ]
  },
  {
   "cell_type": "code",
   "execution_count": 3,
   "metadata": {},
   "outputs": [],
   "source": [
    "def sigmoid(x):\n",
    "    return 1/(1+np.exp(-x))"
   ]
  },
  {
   "cell_type": "code",
   "execution_count": 4,
   "metadata": {},
   "outputs": [],
   "source": [
    "def tanh(x):\n",
    "    return np.tanh(x)"
   ]
  },
  {
   "cell_type": "code",
   "execution_count": 5,
   "metadata": {},
   "outputs": [],
   "source": [
    "def softmax(x):\n",
    "    exp_x = np.exp(x)\n",
    "    exp_x_sum = np.sum(exp_x, axis=1).reshape(-1,1)\n",
    "    exp_x = exp_x/exp_x_sum\n",
    "\n",
    "    return exp_x"
   ]
  },
  {
   "cell_type": "markdown",
   "metadata": {},
   "source": [
    "### LSTM cell from scratch"
   ]
  },
  {
   "cell_type": "code",
   "execution_count": 8,
   "metadata": {},
   "outputs": [],
   "source": [
    "def init_parameters():\n",
    "    mean = 0\n",
    "    std = 0.01\n",
    "\n",
    "    #lstm cell weights\n",
    "    forget_gate_weights = np.random.normal(mean,std,(input_units+hidden_units,hidden_units))\n",
    "    input_gate_weights  = np.random.normal(mean,std,(input_units+hidden_units,hidden_units))\n",
    "    output_gate_weights = np.random.normal(mean,std,(input_units+hidden_units,hidden_units))\n",
    "    gate_gate_weights   = np.random.normal(mean,std,(input_units+hidden_units,hidden_units))\n",
    "\n",
    "    hidden_output_weights = np.random.normal(mean, std, (hidden_units, output_units))\n",
    "\n",
    "    parameters = dict()\n",
    "    parameters['fgw'] = forget_gate_weights\n",
    "    parameters['igw'] = input_gate_weights\n",
    "    parameters['ogw'] = output_gate_weights\n",
    "    parameters['ggw'] = gate_gate_weights\n",
    "    parameters['how'] = hidden_output_weights\n",
    "\n",
    "    return parameters"
   ]
  },
  {
   "cell_type": "markdown",
   "metadata": {},
   "source": [
    "![image](LSTM.jpg)\n",
    "\n",
    "Equations\n",
    "\n",
    "* fa = sigmoid(Wf x [xt,at-1])\n",
    "* ia = sigmoid(Wi x [xt,at-1])\n",
    "* ga = tanh(Wg x [xt,at-1])\n",
    "* oa = sigmoid(Wo x [xt,at-1])\n",
    "* ct = (fa x ct-1) + (ia x ga)\n",
    "* at = oa x tanh(ct)"
   ]
  },
  {
   "cell_type": "code",
   "execution_count": null,
   "metadata": {},
   "outputs": [],
   "source": [
    "def lstm_cell(batch_dataset, prev_activation_matrix, prev_cell_matrix, parameters):\n",
    "\n",
    "    fgw = parameters['fgw']\n",
    "    igw = parameters['igw']\n",
    "    ogw = parameters['ogw']\n",
    "    ggw = parameters['ggw']\n",
    "\n",
    "    concat_dataset = np.concatenate((batch_dataset, prev_activation_matrix), axis=1)\n",
    "\n",
    "    fa = np.matmul(concat_dataset, fgw)\n",
    "    fa = sigmoid(fa)\n",
    "\n",
    "    ia = np.matmul(concat_dataset, igw)\n",
    "    ia = sigmoid(ia)\n",
    "\n",
    "    oa = np.matmul(concat_dataset, ogw)\n",
    "    oa = sigmoid(oa)\n",
    "\n",
    "    ga = np.matmul(concat_dataset, ggw)\n",
    "    ga = tanh(ga)\n",
    "\n",
    "    cell_memory_matrix = np.multiply(fa, prev_cell_matrix) + np.multiply(ia, ga)\n",
    "    activation_matrix = np.multiply(oa, tanh(cell_memory_matrix))\n",
    "\n",
    "    lstm_activations = dict()\n",
    "    lstm_activations['fa'] = fa\n",
    "    lstm_activations['ia'] = ia\n",
    "    lstm_activations['oa'] = oa\n",
    "    lstm_activations['ga'] = ga\n",
    "\n",
    "    return lstm_activations, cell_memory_matrix, activation_matrix\n"
   ]
  },
  {
   "cell_type": "markdown",
   "metadata": {},
   "source": [
    "### Build LSTM model"
   ]
  }
 ],
 "metadata": {
  "kernelspec": {
   "display_name": "DuongBKCS",
   "language": "python",
   "name": "python3"
  },
  "language_info": {
   "codemirror_mode": {
    "name": "ipython",
    "version": 3
   },
   "file_extension": ".py",
   "mimetype": "text/x-python",
   "name": "python",
   "nbconvert_exporter": "python",
   "pygments_lexer": "ipython3",
   "version": "3.10.13"
  }
 },
 "nbformat": 4,
 "nbformat_minor": 2
}
